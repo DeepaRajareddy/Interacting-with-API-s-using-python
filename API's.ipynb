{
 "cells": [
  {
   "cell_type": "code",
   "execution_count": 2,
   "metadata": {},
   "outputs": [
    {
     "data": {
      "text/plain": [
       "1"
      ]
     },
     "execution_count": 2,
     "metadata": {},
     "output_type": "execute_result"
    }
   ],
   "source": [
    "###### Question2: Option1: API: 'Smartystreets'  \n",
    "This API server many services namely:-\n",
    "\n",
    "International Street API\n",
    "US Street API\n",
    "US ZIP Code API\n",
    "US Autocomplete API\n",
    "US Extract API\n",
    "\n",
    "I have enrolled for free subscription.so, US street verifier is available with this service.\n",
    "If we give address with street name,city name,state name and zipcode. It will check whether the address we gave is valid or not.Not necessarily we have to give street,city,state and zipcode names instead any one of the above mentioned is missing like if we dont have street name. If we give only city,state and zipcode then also it will work.\n",
    "\n",
    "I have given all 4 in my URL.My program asks end user to enter street,city,state and zipcode names. It will check and show us output.I have entered correct address and showed one program and one wrong address and showed output.\n",
    "\n",
    "\n",
    "USE CASE:Any Employee Background verification tasks before joining to any company can be made easily. Any Fake address we can catch easily. "
   ]
  },
  {
   "cell_type": "code",
   "execution_count": 3,
   "metadata": {},
   "outputs": [
    {
     "name": "stdout",
     "output_type": "stream",
     "text": [
      "Please enter a valid street name: 55 Lexington AVE\n",
      "Please enter a valid city name: NEW YORK\n",
      "Please enter a valid state name: NY\n",
      "Please enter a valid zip code: 10010\n",
      "<Response [200]>\n"
     ]
    },
    {
     "data": {
      "text/plain": [
       "[{'input_index': 0,\n",
       "  'city_states': [{'city': 'New York',\n",
       "    'state_abbreviation': 'NY',\n",
       "    'state': 'New York',\n",
       "    'mailable_city': True}],\n",
       "  'zipcodes': [{'zipcode': '10010',\n",
       "    'zipcode_type': 'S',\n",
       "    'default_city': 'New York',\n",
       "    'county_fips': '36061',\n",
       "    'county_name': 'New York',\n",
       "    'state_abbreviation': 'NY',\n",
       "    'state': 'New York',\n",
       "    'latitude': 40.73885,\n",
       "    'longitude': -73.98504,\n",
       "    'precision': 'Zip5'}]}]"
      ]
     },
     "execution_count": 3,
     "metadata": {},
     "output_type": "execute_result"
    }
   ],
   "source": [
    "#checking code for valid Input\n",
    "import requests\n",
    "street=input('Please enter a valid street name: ')\n",
    "city=input('Please enter a valid city name: ')\n",
    "state=input('Please enter a valid state name: ')\n",
    "zipcode=input('Please enter a valid zip code: ')\n",
    "url=\"https://us-zipcode.api.smartystreets.com/lookup?auth-id=c74e1d28-fa6e-3c3d-5963-80cae391f194&auth-token=d7mnODvLdNgm7368Nz1i&street=\"+street+\"&city=\"+city+\"&state=\"+state+\"&zipcode=\"+zipcode\n",
    "r=requests.get(url)\n",
    "print(r)\n",
    "\n",
    "import json\n",
    "dict1=r.json()\n",
    "#or dict1=json.loads(r.text)\n",
    "dict1"
   ]
  },
  {
   "cell_type": "code",
   "execution_count": 4,
   "metadata": {},
   "outputs": [
    {
     "name": "stdout",
     "output_type": "stream",
     "text": [
      "Please enter a valid street name: 55 Lexington AVE\n",
      "Please enter a valid city name: NEW YORK\n",
      "Please enter a valid state name: NEW JERSEY\n",
      "Please enter a valid zip code: 10010\n",
      "<Response [200]>\n"
     ]
    },
    {
     "data": {
      "text/plain": [
       "[{'input_index': 0,\n",
       "  'status': 'invalid_city',\n",
       "  'reason': 'Invalid city for the given state.'}]"
      ]
     },
     "execution_count": 4,
     "metadata": {},
     "output_type": "execute_result"
    }
   ],
   "source": [
    "#checking code for Invalid Input\n",
    "import requests\n",
    "street=input('Please enter a valid street name: ')\n",
    "city=input('Please enter a valid city name: ')\n",
    "state=input('Please enter a valid state name: ')\n",
    "zipcode=input('Please enter a valid zip code: ')\n",
    "url=\"https://us-zipcode.api.smartystreets.com/lookup?auth-id=c74e1d28-fa6e-3c3d-5963-80cae391f194&auth-token=d7mnODvLdNgm7368Nz1i&street=\"+street+\"&city=\"+city+\"&state=\"+state+\"&zipcode=\"+zipcode\n",
    "r=requests.get(url)\n",
    "print(r)\n",
    " \n",
    "import json\n",
    "dict1=r.json()\n",
    "#or dict1=json.loads(r.text)\n",
    "dict1"
   ]
  },
  {
   "cell_type": "code",
   "execution_count": 5,
   "metadata": {},
   "outputs": [
    {
     "data": {
      "text/plain": [
       "1"
      ]
     },
     "execution_count": 5,
     "metadata": {},
     "output_type": "execute_result"
    }
   ],
   "source": [
    "###### Question2 Option1 API: 'CurrencyLayer'\n",
    "The currencylayer API offers up to 5 customizable endpoints, all of which providing different kinds of data. Below you will find a short summary of all available endpoints.\n",
    "\n",
    "Base URL: https://api.currencylayer.com/\n",
    "\n",
    "// \"live\" - get the most recent exchange rate data\n",
    "https://api.currencylayer.com/live\n",
    "\n",
    "// \"historical\" - get historical rates for a specific day  \n",
    "https://api.currencylayer.com/historical?date=YYYY-MM-DD \n",
    "\n",
    "// \"convert\" - convert one currency to another  \n",
    "https://api.currencylayer.com/convert?from=EUR&to=GBP&amount=100 \n",
    "\n",
    "// \"timeframe\" - request exchange rates for a specific period of time \n",
    "https://api.currencylayer.com/timeframe?start_date=2015-01-01&end_date=2015-05-01\n",
    "\n",
    "// \"change\" - request any currency's change parameters (margin, percentage) \n",
    "https://api.currencylayer.com/change?currencies=USD,EUR\n",
    "\n",
    "\n",
    "Since i used free subscription only one service is working among 5. Currencylayer API helps us to find the US Dollar value in other countries. USD to any other country currency. \n",
    "\n",
    "Along with working URL I have shown not working  URL's too because of free subscription access is getting restricted for me.\n",
    "\n",
    "Showing Programs using 'LIVE' URL\n"
   ]
  },
  {
   "cell_type": "code",
   "execution_count": 7,
   "metadata": {},
   "outputs": [
    {
     "name": "stdout",
     "output_type": "stream",
     "text": [
      "<Response [200]>\n",
      "{\n",
      "  \"success\":true,\n",
      "  \"terms\":\"https:\\/\\/currencylayer.com\\/terms\",\n",
      "  \"privacy\":\"https:\\/\\/currencylayer.com\\/privacy\",\n",
      "  \"timestamp\":1588091706,\n",
      "  \"source\":\"USD\",\n",
      "  \"quotes\":{\n",
      "    \"USDUSD\":1,\n",
      "    \"USDAUD\":1.53956,\n",
      "    \"USDCAD\":1.39965,\n",
      "    \"USDPLN\":4.1978,\n",
      "    \"USDMXN\":24.379225\n",
      "  }\n",
      "}\n"
     ]
    }
   ],
   "source": [
    "#USD to Specified number of country currency\n",
    "url='http://api.currencylayer.com/live?access_key=d1cbc05411689a94cc7e8f3e0e935b88&currencies=USD,AUD,CAD,PLN,MXN&format=1'\n",
    "r=requests.get(url)\n",
    "print(r)\n",
    "print(r.text)"
   ]
  },
  {
   "cell_type": "code",
   "execution_count": 25,
   "metadata": {},
   "outputs": [
    {
     "name": "stdout",
     "output_type": "stream",
     "text": [
      "<Response [200]>\n",
      "USDAED 3.673197\n",
      "USDAFN 75.999797\n",
      "USDALL 113.750141\n",
      "USDAMD 479.629917\n",
      "USDANG 1.795404\n",
      "USDAOA 564.929052\n",
      "USDARS 66.644235\n",
      "USDAUD 1.53956\n",
      "USDAWG 1.8\n",
      "USDAZN 1.702131\n",
      "USDBAM 1.797572\n",
      "USDBBD 2.019577\n",
      "USDBDT 84.96213\n",
      "USDBGN 1.804105\n",
      "USDBHD 0.378043\n",
      "USDBIF 1900\n",
      "USDBMD 1\n",
      "USDBND 1.417161\n",
      "USDBOB 6.916417\n",
      "USDBRL 5.549701\n",
      "USDBSD 1.000179\n",
      "USDBTC 0.000141\n",
      "USDBTN 76.18748\n",
      "USDBWP 12.168051\n",
      "USDBYN 2.462972\n",
      "USDBYR 19600\n",
      "USDBZD 2.016121\n",
      "USDCAD 1.39965\n",
      "USDCDF 1724.999734\n",
      "USDCHF 0.974575\n",
      "USDCLF 0.030714\n",
      "USDCLP 847.499774\n",
      "USDCNY 7.079598\n",
      "USDCOP 4047.15\n",
      "USDCRC 567.64445\n",
      "USDCUC 1\n",
      "USDCUP 26.5\n",
      "USDCVE 102.550111\n",
      "USDCZK 25.087902\n",
      "USDDJF 177.72021\n",
      "USDDKK 6.88287\n",
      "USDDOP 54.749811\n",
      "USDDZD 128.418997\n",
      "USDEGP 15.7508\n",
      "USDERN 15.000443\n",
      "USDETB 33.296843\n",
      "USDEUR 0.923115\n",
      "USDFJD 2.261502\n",
      "USDFKP 0.804786\n",
      "USDGBP 0.804735\n",
      "USDGEL 3.210369\n",
      "USDGGP 0.804786\n",
      "USDGHS 5.792219\n",
      "USDGIP 0.804786\n",
      "USDGMD 51.00019\n",
      "USDGNF 9455.000453\n",
      "USDGTQ 7.711637\n",
      "USDGYD 208.952198\n",
      "USDHKD 7.75029\n",
      "USDHNL 24.939981\n",
      "USDHRK 6.976035\n",
      "USDHTG 97.82216\n",
      "USDHUF 330.962988\n",
      "USDIDR 15414.05\n",
      "USDILS 3.49936\n",
      "USDIMP 0.804786\n",
      "USDINR 76.099803\n",
      "USDIQD 1190.5\n",
      "USDIRR 42105.000098\n",
      "USDISK 147.229706\n",
      "USDJEP 0.804786\n",
      "USDJMD 140.41636\n",
      "USDJOD 0.709036\n",
      "USDJPY 106.870109\n",
      "USDKES 107.210073\n",
      "USDKGS 79.337501\n",
      "USDKHR 4075.000051\n",
      "USDKMF 456.299459\n",
      "USDKPW 900.080227\n",
      "USDKRW 1221.149958\n",
      "USDKWD 0.310101\n",
      "USDKYD 0.833456\n",
      "USDKZT 431.48752\n",
      "USDLAK 8977.503045\n",
      "USDLBP 1513.999699\n",
      "USDLKR 192.03884\n",
      "USDLRD 198.200406\n",
      "USDLSL 18.98502\n",
      "USDLTL 2.95274\n",
      "USDLVL 0.60489\n",
      "USDLYD 1.414961\n",
      "USDMAD 9.963494\n",
      "USDMDL 18.078287\n",
      "USDMGA 3801.99973\n",
      "USDMKD 56.790112\n",
      "USDMMK 1420.7873\n",
      "USDMNT 2788.393886\n",
      "USDMOP 7.984688\n",
      "USDMRO 357.00003\n",
      "USDMUR 40.050617\n",
      "USDMVR 15.46029\n",
      "USDMWK 734.999755\n",
      "USDMXN 24.379225\n",
      "USDMYR 4.361505\n",
      "USDMZN 67.700423\n",
      "USDNAD 18.985004\n",
      "USDNGN 389.999441\n",
      "USDNIO 34.549874\n",
      "USDNOK 10.418075\n",
      "USDNPR 121.90033\n",
      "USDNZD 1.650615\n",
      "USDOMR 0.385081\n",
      "USDPAB 1.000179\n",
      "USDPEN 3.397503\n",
      "USDPGK 3.435014\n",
      "USDPHP 50.605497\n",
      "USDPKR 160.999809\n",
      "USDPLN 4.1978\n",
      "USDPYG 6548.317098\n",
      "USDQAR 3.640973\n",
      "USDRON 4.471202\n",
      "USDRSD 108.580215\n",
      "USDRUB 74.2638\n",
      "USDRWF 937.5\n",
      "USDSAR 3.759757\n",
      "USDSBD 8.335648\n",
      "USDSCR 17.495823\n",
      "USDSDG 55.308119\n",
      "USDSEK 9.893115\n",
      "USDSGD 1.41679\n",
      "USDSHP 0.804786\n",
      "USDSLL 9704.999805\n",
      "USDSOS 583.000149\n",
      "USDSRD 7.457944\n",
      "USDSTD 22051.386135\n",
      "USDSVC 8.751597\n",
      "USDSYP 513.090203\n",
      "USDSZL 18.576017\n",
      "USDTHB 32.459709\n",
      "USDTJS 10.248876\n",
      "USDTMT 3.5\n",
      "USDTND 2.9145\n",
      "USDTOP 2.31755\n",
      "USDTRY 6.994405\n",
      "USDTTD 6.763235\n",
      "USDTWD 29.977499\n",
      "USDTZS 2316.901722\n",
      "USDUAH 27.05639\n",
      "USDUGX 3803.755396\n",
      "USDUSD 1\n",
      "USDUYU 43.723461\n",
      "USDUZS 10131.999977\n",
      "USDVEF 9.987498\n",
      "USDVND 23445.5\n",
      "USDVUV 121.123789\n",
      "USDWST 2.777157\n",
      "USDXAF 602.89057\n",
      "USDXAG 0.066311\n",
      "USDXAU 0.000586\n",
      "USDXCD 2.70255\n",
      "USDXDR 0.733442\n",
      "USDXOF 607.503834\n",
      "USDXPF 110.33679\n",
      "USDYER 250.34971\n",
      "USDZAR 18.65194\n",
      "USDZMK 9001.197529\n",
      "USDZMW 18.678621\n",
      "USDZWL 322.000001\n"
     ]
    }
   ],
   "source": [
    "#USD TO default Country currencies. Default countries listed in API\n",
    "import requests\n",
    "url='http://apilayer.net/api/live?access_key=d1cbc05411689a94cc7e8f3e0e935b88'\n",
    "r=requests.get(url)\n",
    "print(r)\n",
    "#print(r.text)\n",
    "import json\n",
    "dict2=r.json()\n",
    "#print(dict2)\n",
    "for i,j in dict2['quotes'].items():\n",
    "    print(i,j)\n",
    "\n",
    "\n"
   ]
  },
  {
   "cell_type": "code",
   "execution_count": 28,
   "metadata": {},
   "outputs": [
    {
     "name": "stdout",
     "output_type": "stream",
     "text": [
      "<Response [200]>\n",
      "{\"success\":false,\"error\":{\"code\":105,\"info\":\"Access Restricted - Your current Subscription Plan does not support HTTPS Encryption.\"}}\n"
     ]
    }
   ],
   "source": [
    "import requests\n",
    "url='https://api.currencylayer.com/convert?access_key=d1cbc05411689a94cc7e8f3e0e935b88&from=USD&to=INR&amount=10&date=2020-04-27'\n",
    "r=requests.get(url)\n",
    "print(r)\n",
    "print(r.text)"
   ]
  },
  {
   "cell_type": "code",
   "execution_count": 29,
   "metadata": {},
   "outputs": [
    {
     "name": "stdout",
     "output_type": "stream",
     "text": [
      "<Response [200]>\n",
      "{\"success\":false,\"error\":{\"code\":105,\"info\":\"Access Restricted - Your current Subscription Plan does not support HTTPS Encryption.\"}}\n"
     ]
    }
   ],
   "source": [
    "import requests\n",
    "url='https://api.currencylayer.com/list?access_key=d1cbc05411689a94cc7e8f3e0e935b88'\n",
    "r=requests.get(url)\n",
    "print(r)\n",
    "print(r.text)"
   ]
  },
  {
   "cell_type": "code",
   "execution_count": null,
   "metadata": {},
   "outputs": [],
   "source": []
  }
 ],
 "metadata": {
  "kernelspec": {
   "display_name": "Python 3",
   "language": "python",
   "name": "python3"
  },
  "language_info": {
   "codemirror_mode": {
    "name": "ipython",
    "version": 3
   },
   "file_extension": ".py",
   "mimetype": "text/x-python",
   "name": "python",
   "nbconvert_exporter": "python",
   "pygments_lexer": "ipython3",
   "version": "3.8.3"
  }
 },
 "nbformat": 4,
 "nbformat_minor": 2
}
